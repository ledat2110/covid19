{
 "cells": [
  {
   "cell_type": "code",
   "execution_count": 2,
   "metadata": {},
   "outputs": [],
   "source": [
    "import numpy as np\n",
    "from scipy.integrate import odeint\n",
    "import matplotlib.pyplot as plt\n",
    "import pandas as pd"
   ]
  },
  {
   "cell_type": "code",
   "execution_count": 3,
   "metadata": {},
   "outputs": [],
   "source": [
    "df = pd.read_csv('./Singapore.csv')"
   ]
  },
  {
   "cell_type": "code",
   "execution_count": 4,
   "metadata": {},
   "outputs": [
    {
     "data": {
      "text/html": [
       "<div>\n",
       "<style scoped>\n",
       "    .dataframe tbody tr th:only-of-type {\n",
       "        vertical-align: middle;\n",
       "    }\n",
       "\n",
       "    .dataframe tbody tr th {\n",
       "        vertical-align: top;\n",
       "    }\n",
       "\n",
       "    .dataframe thead th {\n",
       "        text-align: right;\n",
       "    }\n",
       "</style>\n",
       "<table border=\"1\" class=\"dataframe\">\n",
       "  <thead>\n",
       "    <tr style=\"text-align: right;\">\n",
       "      <th></th>\n",
       "      <th>Unnamed: 0</th>\n",
       "      <th>Date</th>\n",
       "      <th>Confirmed</th>\n",
       "      <th>Deaths</th>\n",
       "      <th>Recovered</th>\n",
       "      <th>Active</th>\n",
       "      <th>New cases</th>\n",
       "      <th>New deaths</th>\n",
       "      <th>New recovered</th>\n",
       "      <th>Population</th>\n",
       "      <th>Susceptiple</th>\n",
       "      <th>Log susceptiple</th>\n",
       "      <th>Decresed susceptiple</th>\n",
       "    </tr>\n",
       "  </thead>\n",
       "  <tbody>\n",
       "    <tr>\n",
       "      <th>0</th>\n",
       "      <td>1</td>\n",
       "      <td>2020-01-23</td>\n",
       "      <td>1</td>\n",
       "      <td>0</td>\n",
       "      <td>0</td>\n",
       "      <td>1</td>\n",
       "      <td>1</td>\n",
       "      <td>0</td>\n",
       "      <td>0</td>\n",
       "      <td>5840996</td>\n",
       "      <td>5840995</td>\n",
       "      <td>15.580412</td>\n",
       "      <td>0</td>\n",
       "    </tr>\n",
       "    <tr>\n",
       "      <th>1</th>\n",
       "      <td>2</td>\n",
       "      <td>2020-01-24</td>\n",
       "      <td>3</td>\n",
       "      <td>0</td>\n",
       "      <td>0</td>\n",
       "      <td>3</td>\n",
       "      <td>2</td>\n",
       "      <td>0</td>\n",
       "      <td>0</td>\n",
       "      <td>5840996</td>\n",
       "      <td>5840993</td>\n",
       "      <td>15.580411</td>\n",
       "      <td>2</td>\n",
       "    </tr>\n",
       "    <tr>\n",
       "      <th>2</th>\n",
       "      <td>3</td>\n",
       "      <td>2020-01-25</td>\n",
       "      <td>3</td>\n",
       "      <td>0</td>\n",
       "      <td>0</td>\n",
       "      <td>3</td>\n",
       "      <td>0</td>\n",
       "      <td>0</td>\n",
       "      <td>0</td>\n",
       "      <td>5840996</td>\n",
       "      <td>5840993</td>\n",
       "      <td>15.580411</td>\n",
       "      <td>0</td>\n",
       "    </tr>\n",
       "    <tr>\n",
       "      <th>3</th>\n",
       "      <td>4</td>\n",
       "      <td>2020-01-26</td>\n",
       "      <td>4</td>\n",
       "      <td>0</td>\n",
       "      <td>0</td>\n",
       "      <td>4</td>\n",
       "      <td>1</td>\n",
       "      <td>0</td>\n",
       "      <td>0</td>\n",
       "      <td>5840996</td>\n",
       "      <td>5840992</td>\n",
       "      <td>15.580411</td>\n",
       "      <td>1</td>\n",
       "    </tr>\n",
       "    <tr>\n",
       "      <th>4</th>\n",
       "      <td>5</td>\n",
       "      <td>2020-01-27</td>\n",
       "      <td>5</td>\n",
       "      <td>0</td>\n",
       "      <td>0</td>\n",
       "      <td>5</td>\n",
       "      <td>1</td>\n",
       "      <td>0</td>\n",
       "      <td>0</td>\n",
       "      <td>5840996</td>\n",
       "      <td>5840991</td>\n",
       "      <td>15.580411</td>\n",
       "      <td>1</td>\n",
       "    </tr>\n",
       "  </tbody>\n",
       "</table>\n",
       "</div>"
      ],
      "text/plain": [
       "   Unnamed: 0        Date  Confirmed  Deaths  Recovered  Active  New cases  \\\n",
       "0           1  2020-01-23          1       0          0       1          1   \n",
       "1           2  2020-01-24          3       0          0       3          2   \n",
       "2           3  2020-01-25          3       0          0       3          0   \n",
       "3           4  2020-01-26          4       0          0       4          1   \n",
       "4           5  2020-01-27          5       0          0       5          1   \n",
       "\n",
       "   New deaths  New recovered  Population  Susceptiple  Log susceptiple  \\\n",
       "0           0              0     5840996      5840995        15.580412   \n",
       "1           0              0     5840996      5840993        15.580411   \n",
       "2           0              0     5840996      5840993        15.580411   \n",
       "3           0              0     5840996      5840992        15.580411   \n",
       "4           0              0     5840996      5840991        15.580411   \n",
       "\n",
       "   Decresed susceptiple  \n",
       "0                     0  \n",
       "1                     2  \n",
       "2                     0  \n",
       "3                     1  \n",
       "4                     1  "
      ]
     },
     "execution_count": 4,
     "metadata": {},
     "output_type": "execute_result"
    }
   ],
   "source": [
    "df.head()"
   ]
  },
  {
   "cell_type": "code",
   "execution_count": 12,
   "metadata": {},
   "outputs": [],
   "source": [
    "# The SIR model differential equations.\n",
    "def deriv(y, t, beta, gamma):\n",
    "    S, I, R = y\n",
    "    dSdt = -beta * S * I\n",
    "    dIdt = beta * S * I - gamma * I\n",
    "    dRdt = gamma * I\n",
    "    return dSdt, dIdt, dRdt"
   ]
  },
  {
   "cell_type": "code",
   "execution_count": 13,
   "metadata": {},
   "outputs": [],
   "source": [
    "# Number of days\n",
    "n_days = len(df)\n",
    "# Total population, N.\n",
    "N = df['Population'][0]\n",
    "# Initial number of infected and recovered individuals, I0 and R0.\n",
    "I0, R0 = (df['Active'][0])/N, (df['Deaths'][0] + df['Recovered'][0])/N\n",
    "# Everyone else, S0, is susceptible to infection initially.\n",
    "S0 = 1 - I0 - R0\n",
    "# A grid of time points (in days)\n",
    "t = [i for i in range(n_days)]"
   ]
  },
  {
   "cell_type": "code",
   "execution_count": 14,
   "metadata": {},
   "outputs": [
    {
     "name": "stdout",
     "output_type": "stream",
     "text": [
      "(0.9999998287963218, 1.7120367827678705e-07, 0.0, 0.0)\n"
     ]
    }
   ],
   "source": [
    "ydata = df['Active']/N\n",
    "sdata = df['Susceptiple']/N\n",
    "# Initial conditions vector\n",
    "y0 = S0, I0, R0\n",
    "print(y0)"
   ]
  },
  {
   "cell_type": "code",
   "execution_count": 15,
   "metadata": {},
   "outputs": [],
   "source": [
    "import numpy as np \n",
    "import pandas as pd \n",
    "import matplotlib.pyplot as plt\n",
    "import seaborn as sns\n",
    "from sklearn import preprocessing\n",
    "import time\n",
    "from datetime import datetime\n",
    "from scipy import integrate, optimize\n",
    "import warnings\n",
    "warnings.filterwarnings('ignore')\n",
    "\n",
    "# ML libraries\n",
    "import lightgbm as lgb\n",
    "import xgboost as xgb\n",
    "from xgboost import plot_importance, plot_tree\n",
    "from sklearn.model_selection import RandomizedSearchCV, GridSearchCV\n",
    "from sklearn import linear_model\n",
    "from sklearn.metrics import mean_squared_error"
   ]
  },
  {
   "cell_type": "code",
   "execution_count": 19,
   "metadata": {},
   "outputs": [
    {
     "data": {
      "image/png": "[encoded data removed]",
      "text/plain": [
       "<Figure size 432x288 with 1 Axes>"
      ]
     },
     "metadata": {
      "needs_background": "light"
     },
     "output_type": "display_data"
    },
    {
     "name": "stdout",
     "output_type": "stream",
     "text": [
      "Optimal parameters: beta = 1.0  and gamma =  1.0  and theta =  1.0\n"
     ]
    }
   ],
   "source": [
    "def fit_odeint(t, beta, gamma):\n",
    "    return integrate.odeint(deriv, y0, t, args=(beta, gamma))[:,1]\n",
    "\n",
    "popt, pcov = optimize.curve_fit(fit_odeint, t, ydata)\n",
    "I = fit_odeint(t, *popt)\n",
    "beta, gamma = popt[0], popt[1]\n",
    "\n",
    "plt.plot(t, ydata, 'o')\n",
    "plt.plot(t, I)\n",
    "plt.title(\"Fit of SIR model for infected cases\")\n",
    "plt.ylabel(\"Population infected\")\n",
    "plt.xlabel(\"Days\")\n",
    "plt.show()\n",
    "print(\"Optimal parameters: beta =\", popt[0], \" and gamma = \", popt[1])\n"
   ]
  },
  {
   "cell_type": "code",
   "execution_count": 30,
   "metadata": {},
   "outputs": [],
   "source": [
    "# Integrate the SIR equations over the time grid, t.\n",
    "# t = [i for i in range(1000)]\n",
    "ret = integrate.odeint(deriv, y0, t, args=(2.5, 1, 1))\n",
    "S, I, R, D = ret.T"
   ]
  },
  {
   "cell_type": "code",
   "execution_count": 31,
   "metadata": {},
   "outputs": [
    {
     "data": {
      "image/png": "[encoded data removed]",
      "text/plain": [
       "<Figure size 432x288 with 1 Axes>"
      ]
     },
     "metadata": {
      "needs_background": "light"
     },
     "output_type": "display_data"
    }
   ],
   "source": [
    "plt.bar(t, ydata)\n",
    "plt.plot(t, I, 'r')\n",
    "plt.title(\"Fit of SIR model for infected cases\")\n",
    "plt.ylabel(\"Population infected\")\n",
    "plt.xlabel(\"Days\")\n",
    "plt.show()"
   ]
  },
  {
   "cell_type": "code",
   "execution_count": 23,
   "metadata": {},
   "outputs": [
    {
     "data": {
      "image/png": "[encoded data removed]",
      "text/plain": [
       "<Figure size 432x288 with 1 Axes>"
      ]
     },
     "metadata": {},
     "output_type": "display_data"
    }
   ],
   "source": [
    "# Plot the data on three separate curves for S(t), I(t) and R(t)\n",
    "fig = plt.figure(facecolor='w')\n",
    "ax = fig.add_subplot(111, facecolor='#dddddd', axisbelow=True)\n",
    "ax.plot(t, S, 'b', alpha=0.5, lw=2, label='Susceptible')\n",
    "ax.plot(t, I, 'r', alpha=0.5, lw=2, label='Infected')\n",
    "ax.plot(t, R, 'g', alpha=0.5, lw=2, label='Recovered with immunity')\n",
    "ax.set_xlabel('Time /days')\n",
    "ax.set_ylabel('Number (1000s)')\n",
    "ax.set_ylim(0,1.2)\n",
    "ax.yaxis.set_tick_params(length=0)\n",
    "ax.xaxis.set_tick_params(length=0)\n",
    "ax.grid(b=True, which='major', c='w', lw=2, ls='-')\n",
    "legend = ax.legend()\n",
    "legend.get_frame().set_alpha(0.5)\n",
    "for spine in ('top', 'right', 'bottom', 'left'):\n",
    "    ax.spines[spine].set_visible(False)\n",
    "plt.show()"
   ]
  },
  {
   "cell_type": "code",
   "execution_count": 12,
   "metadata": {},
   "outputs": [
    {
     "name": "stdout",
     "output_type": "stream",
     "text": [
      "0.711373308762959 0.08057057993641203\n"
     ]
    }
   ],
   "source": [
    "beta = np.random.rand()\n",
    "gamma = np.random.rand()\n",
    "print(beta, gamma)"
   ]
  },
  {
   "cell_type": "code",
   "execution_count": 24,
   "metadata": {},
   "outputs": [],
   "source": [
    "# Integrate the SIR equations over the time grid, t.\n",
    "# t = [i for i in range(1000)]\n",
    "ret = integrate.odeint(deriv, y0, t, args=(beta, gamma))\n",
    "S, I, R = ret.T"
   ]
  },
  {
   "cell_type": "code",
   "execution_count": 25,
   "metadata": {},
   "outputs": [],
   "source": [
    "mean_y = np.mean(ydata)\n",
    "denominator = np.sum((ydata - mean_y)**2)"
   ]
  },
  {
   "cell_type": "code",
   "execution_count": 26,
   "metadata": {},
   "outputs": [],
   "source": [
    "class SIR_RNN_model(object):\n",
    "    def __init__(self, S0, I0, R0, beta, gamma):\n",
    "        self.S0, self.I0, self.R0 = S0, I0, R0\n",
    "        self.beta, self.gamma = beta, gamma\n",
    "        \n",
    "    def loss(self, data, days, mode='train'):\n",
    "        loss = 0\n",
    "        grads = {'beta': 0, 'gamma': 0}\n",
    "        \n",
    "        S, I, R = self.sample(days)\n",
    "        for day in range(1, days+1):\n",
    "            loss += (I[day] - data[day])**2\n",
    "        \n",
    "        if mode == 'test':\n",
    "            return loss\n",
    "            \n",
    "        dout_i = dout_s = 0       \n",
    "        \n",
    "        for day in range(days, 0, -1):  \n",
    "            dout = 2 * (I[day] - data[day]) + dout_i + dout_s\n",
    "                       \n",
    "            grads['beta'] += dout * I[day-1] * S[day-1] + dout_s * (-S[day-1] * I[day-1])\n",
    "            grads['gamma'] += dout * -I[day-1]\n",
    "            \n",
    "            dout_i = dout * (1 + beta * S[day-1] -gamma) + dout_s * (-beta * S[day-1])\n",
    "            dout_s = dout * (beta * I[day-1]) + dout_s * (1 - beta * S[day-1])\n",
    "            \n",
    "        return loss, grads\n",
    "    \n",
    "    def fit(self, data, days, lr=0.01, epochs=100, momentum=0.9):\n",
    "        v_beta = 0\n",
    "        v_gamma = 0\n",
    "        for i in range(epochs):\n",
    "            loss, grads = self.loss(data, days)\n",
    "            if loss < 1e-6:\n",
    "                break\n",
    "            if i % 1000 == 0:\n",
    "                print('Epoch[{}/{}]--loss: {}'.format(i, epochs, loss))\n",
    "            v_beta = momentum * v_beta + lr * grads['beta']\n",
    "            v_gamma = momentum * v_gamma + lr * grads['gamma']\n",
    "            self.beta -= v_beta\n",
    "            self.gamma -= v_gamma\n",
    "    \n",
    "    def sample(self, days):\n",
    "        S, I, R = [self.S0], [self.I0], [self.R0]\n",
    "        beta, gamma = self.beta, self.gamma\n",
    "        \n",
    "        for day in range(1, days+1):\n",
    "            S_new = S[day-1] - beta * S[day-1] * I[day-1]\n",
    "            I_new = I[day-1] + beta * S[day-1] * I[day-1] - gamma * I[day-1]\n",
    "            R_new = R[day-1] + gamma * I[day-1]\n",
    "            \n",
    "            S.append(S_new)\n",
    "            R.append(R_new)\n",
    "            I.append(I_new)\n",
    "        \n",
    "        return S, I, R"
   ]
  },
  {
   "cell_type": "code",
   "execution_count": 27,
   "metadata": {},
   "outputs": [],
   "source": [
    "model = SIR_RNN_model(S0, I0, R0, beta, gamma)"
   ]
  },
  {
   "cell_type": "code",
   "execution_count": 37,
   "metadata": {},
   "outputs": [],
   "source": [
    "S, I, R = model.sample(n_days-1)\n",
    "loss, grads = model.loss(ydata, n_days-1)"
   ]
  },
  {
   "cell_type": "code",
   "execution_count": 38,
   "metadata": {},
   "outputs": [
    {
     "name": "stdout",
     "output_type": "stream",
     "text": [
      "0.00038043071662596464 {'beta': -4.275483185626322e-06, 'gamma': -4.221475612413059e-06}\n"
     ]
    }
   ],
   "source": [
    "print(loss, grads)"
   ]
  },
  {
   "cell_type": "code",
   "execution_count": 39,
   "metadata": {},
   "outputs": [
    {
     "data": {
      "image/png": "[encoded data removed]",
      "text/plain": [
       "<Figure size 432x288 with 1 Axes>"
      ]
     },
     "metadata": {
      "needs_background": "light"
     },
     "output_type": "display_data"
    }
   ],
   "source": [
    "plt.bar(t, ydata)\n",
    "plt.plot(t, I, 'r')\n",
    "plt.title(\"Fit of SIR model for infected cases\")\n",
    "plt.ylabel(\"Population infected\")\n",
    "plt.xlabel(\"Days\")\n",
    "plt.show()"
   ]
  },
  {
   "cell_type": "code",
   "execution_count": 33,
   "metadata": {},
   "outputs": [],
   "source": [
    "lr = 0.01\n",
    "epochs = 10000\n",
    "momentum = 0\n",
    "v_beta = 0\n",
    "v_gamma = 0"
   ]
  },
  {
   "cell_type": "code",
   "execution_count": 41,
   "metadata": {},
   "outputs": [
    {
     "name": "stdout",
     "output_type": "stream",
     "text": [
      "Epoch[0/10000]--loss: 0.0003804084828157449\n",
      "Epoch[1000/10000]--loss: 0.00038040625577487287\n",
      "Epoch[2000/10000]--loss: 0.0003804040280671629\n",
      "Epoch[3000/10000]--loss: 0.0003804017996922599\n",
      "Epoch[4000/10000]--loss: 0.00038039957064980856\n",
      "Epoch[5000/10000]--loss: 0.0003803973409394612\n",
      "Epoch[6000/10000]--loss: 0.00038039511056085583\n",
      "Epoch[7000/10000]--loss: 0.00038039287951364536\n",
      "Epoch[8000/10000]--loss: 0.0003803906477974685\n",
      "Epoch[9000/10000]--loss: 0.0003803884154119775\n"
     ]
    }
   ],
   "source": [
    "model.fit(ydata, n_days-1, lr=lr, epochs=epochs, momentum=momentum)"
   ]
  },
  {
   "cell_type": "code",
   "execution_count": 221,
   "metadata": {},
   "outputs": [
    {
     "ename": "TypeError",
     "evalue": "cannot unpack non-iterable numpy.float64 object",
     "output_type": "error",
     "traceback": [
      "\u001b[0;31m---------------------------------------------------------------------------\u001b[0m",
      "\u001b[0;31mTypeError\u001b[0m                                 Traceback (most recent call last)",
      "\u001b[0;32m<ipython-input-221-8f9b4af722be>\u001b[0m in \u001b[0;36m<module>\u001b[0;34m\u001b[0m\n\u001b[1;32m      2\u001b[0m     \u001b[0mret\u001b[0m \u001b[0;34m=\u001b[0m \u001b[0mintegrate\u001b[0m\u001b[0;34m.\u001b[0m\u001b[0modeint\u001b[0m\u001b[0;34m(\u001b[0m\u001b[0mderiv\u001b[0m\u001b[0;34m,\u001b[0m \u001b[0my0\u001b[0m\u001b[0;34m,\u001b[0m \u001b[0mt\u001b[0m\u001b[0;34m,\u001b[0m \u001b[0margs\u001b[0m\u001b[0;34m=\u001b[0m\u001b[0;34m(\u001b[0m\u001b[0mbeta\u001b[0m\u001b[0;34m,\u001b[0m \u001b[0mgamma\u001b[0m\u001b[0;34m)\u001b[0m\u001b[0;34m)\u001b[0m\u001b[0;34m\u001b[0m\u001b[0;34m\u001b[0m\u001b[0m\n\u001b[1;32m      3\u001b[0m     \u001b[0mS\u001b[0m\u001b[0;34m,\u001b[0m \u001b[0mI\u001b[0m\u001b[0;34m,\u001b[0m \u001b[0mR\u001b[0m \u001b[0;34m=\u001b[0m \u001b[0mret\u001b[0m\u001b[0;34m.\u001b[0m\u001b[0mT\u001b[0m\u001b[0;34m\u001b[0m\u001b[0;34m\u001b[0m\u001b[0m\n\u001b[0;32m----> 4\u001b[0;31m     \u001b[0mloss\u001b[0m\u001b[0;34m,\u001b[0m \u001b[0mgrads\u001b[0m \u001b[0;34m=\u001b[0m \u001b[0mloss_grad\u001b[0m\u001b[0;34m(\u001b[0m\u001b[0mI\u001b[0m\u001b[0;34m,\u001b[0m \u001b[0mydata\u001b[0m\u001b[0;34m,\u001b[0m \u001b[0msdata\u001b[0m\u001b[0;34m)\u001b[0m\u001b[0;34m\u001b[0m\u001b[0;34m\u001b[0m\u001b[0m\n\u001b[0m\u001b[1;32m      5\u001b[0m \u001b[0;34m\u001b[0m\u001b[0m\n\u001b[1;32m      6\u001b[0m \u001b[0;31m#     v_beta = momentum * v_beta + lr * grads['beta']\u001b[0m\u001b[0;34m\u001b[0m\u001b[0;34m\u001b[0m\u001b[0;34m\u001b[0m\u001b[0m\n",
      "\u001b[0;31mTypeError\u001b[0m: cannot unpack non-iterable numpy.float64 object"
     ]
    }
   ],
   "source": [
    "for i in range(epochs):\n",
    "    ret = integrate.odeint(deriv, y0, t, args=(beta, gamma))\n",
    "    S, I, R = ret.T\n",
    "    loss, grads = loss_grad(I, ydata, sdata)\n",
    "    \n",
    "#     v_beta = momentum * v_beta + lr * grads['beta']\n",
    "#     #v_gamma = momentum * v_gamma + lr * grads['gamma']\n",
    "    gamma -= lr * grads['gamma']\n",
    "    if i % 1000 == 0:\n",
    "        print(loss, beta, gamma)"
   ]
  },
  {
   "cell_type": "code",
   "execution_count": 222,
   "metadata": {},
   "outputs": [
    {
     "name": "stdout",
     "output_type": "stream",
     "text": [
      "4.2213342632562045e-07\n",
      "0.9525153622744358 0.5710678039069049\n"
     ]
    }
   ],
   "source": [
    "print(loss)\n",
    "print(beta, gamma)"
   ]
  },
  {
   "cell_type": "code",
   "execution_count": 378,
   "metadata": {},
   "outputs": [
    {
     "data": {
      "image/png": "[encoded data removed]",
      "text/plain": [
       "<Figure size 432x288 with 1 Axes>"
      ]
     },
     "metadata": {
      "needs_background": "light"
     },
     "output_type": "display_data"
    }
   ],
   "source": [
    "plt.bar(t, ydata)\n",
    "plt.plot(t, I, 'r')\n",
    "plt.title(\"Fit of SIR model for infected cases\")\n",
    "plt.ylabel(\"Population infected\")\n",
    "plt.xlabel(\"Days\")\n",
    "plt.show()"
   ]
  },
  {
   "cell_type": "code",
   "execution_count": null,
   "metadata": {},
   "outputs": [],
   "source": []
  },
  {
   "cell_type": "code",
   "execution_count": null,
   "metadata": {},
   "outputs": [],
   "source": []
  }
 ],
 "metadata": {
  "kernelspec": {
   "display_name": "torch-gpu",
   "language": "python",
   "name": "torch-gpu"
  },
  "language_info": {
   "codemirror_mode": {
    "name": "ipython",
    "version": 3
   },
   "file_extension": ".py",
   "mimetype": "text/x-python",
   "name": "python",
   "nbconvert_exporter": "python",
   "pygments_lexer": "ipython3",
   "version": "3.7.7"
  }
 },
 "nbformat": 4,
 "nbformat_minor": 4
}
